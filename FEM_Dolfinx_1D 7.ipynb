{
 "cells": [
  {
   "cell_type": "code",
   "execution_count": 1,
   "metadata": {},
   "outputs": [],
   "source": [
    "import numpy as np\n",
    "import mpi4py.MPI\n",
    "import dolfinx"
   ]
  },
  {
   "cell_type": "code",
   "execution_count": 2,
   "metadata": {},
   "outputs": [],
   "source": [
    "import dolfinx.fem\n",
    "import dolfinx.fem.petsc\n",
    "import dolfinx.mesh\n",
    "import mpi4py.MPI\n",
    "import numpy as np\n",
    "import petsc4py.PETSc\n",
    "import ufl"
   ]
  },
  {
   "cell_type": "code",
   "execution_count": 3,
   "metadata": {},
   "outputs": [],
   "source": [
    "import viskex"
   ]
  },
  {
   "cell_type": "markdown",
   "metadata": {},
   "source": [
    "We consider the model boundary value problem:\n",
    "$$\n",
    "\\left\\{\n",
    "\\begin{array}{l}\n",
    "- u'' = 2, & x \\in I= (0, 1),\\\\\n",
    "u(0) = 0,\\\\\n",
    "u(1) = 1.\n",
    "\\end{array}\n",
    "\\right.\n",
    "$$"
   ]
  },
  {
   "cell_type": "markdown",
   "metadata": {},
   "source": [
    "**Task 1: create a mesh.**\n",
    "\n",
    "`dolfinx.mesh` provide some built-in functions to generate simple meshes, and in particular `create_unit_interval` for an equispaced mesh on the unit interval $I$.\n",
    "\n",
    " Create the uniform mesh with 10 cells:"
   ]
  },
  {
   "cell_type": "code",
   "execution_count": 4,
   "metadata": {},
   "outputs": [],
   "source": [
    "# define uniform grid \n",
    "mesh = dolfinx.mesh.create_unit_interval(mpi4py.MPI.COMM_WORLD, 12)"
   ]
  },
  {
   "cell_type": "markdown",
   "metadata": {},
   "source": [
    "Note that `dolfinx.mesh` requires that we supply the MPI-communicator. This is to specify how we would like the program to behave in parallel. With:\n",
    "* MPI.COMM_WORLD we create a single mesh, whose data is distributed over the number of processors we would like to use.\n",
    "* MPI.COMM_SELF we create a separate mesh on each processor"
   ]
  },
  {
   "cell_type": "markdown",
   "metadata": {},
   "source": [
    "We can obtain an interactive plot of the domain using viskex"
   ]
  },
  {
   "cell_type": "code",
   "execution_count": 5,
   "metadata": {},
   "outputs": [
    {
     "data": {
      "application/vnd.jupyter.widget-view+json": {
       "model_id": "52efc1277e7b49b48b48ec9a899df16d",
       "version_major": 2,
       "version_minor": 0
      },
      "text/plain": [
       "Widget(value='<iframe src=\"http://localhost:45561/index.html?ui=P_0x76a2758e1850_0&reconnect=auto\" class=\"pyvi…"
      ]
     },
     "metadata": {},
     "output_type": "display_data"
    }
   ],
   "source": [
    "viskex.dolfinx.plot_mesh(mesh)"
   ]
  },
  {
   "cell_type": "markdown",
   "metadata": {},
   "source": [
    "A **mesh**  is made by\n",
    "*  a set of points: these are part of the mesh.geometry\n",
    "*  a set of subintervals that connect them: these are part of the mesh.topology\n",
    "\n"
   ]
  },
  {
   "cell_type": "markdown",
   "metadata": {},
   "source": [
    "(Note that `dolfinx` developers decided to store points as vectors in $\\mathbb{R}^3$, regardless of the actual ambient space dimension!)"
   ]
  },
  {
   "cell_type": "code",
   "execution_count": 6,
   "metadata": {},
   "outputs": [
    {
     "data": {
      "text/plain": [
       "array([[0.        , 0.        , 0.        ],\n",
       "       [0.08333333, 0.        , 0.        ],\n",
       "       [0.16666667, 0.        , 0.        ],\n",
       "       [0.25      , 0.        , 0.        ],\n",
       "       [0.33333333, 0.        , 0.        ],\n",
       "       [0.41666667, 0.        , 0.        ],\n",
       "       [0.5       , 0.        , 0.        ],\n",
       "       [0.58333333, 0.        , 0.        ],\n",
       "       [0.66666667, 0.        , 0.        ],\n",
       "       [0.75      , 0.        , 0.        ],\n",
       "       [0.83333333, 0.        , 0.        ],\n",
       "       [0.91666667, 0.        , 0.        ],\n",
       "       [1.        , 0.        , 0.        ]])"
      ]
     },
     "execution_count": 6,
     "metadata": {},
     "output_type": "execute_result"
    }
   ],
   "source": [
    "points = mesh.geometry.x\n",
    "points"
   ]
  },
  {
   "cell_type": "code",
   "execution_count": 7,
   "metadata": {},
   "outputs": [
    {
     "data": {
      "text/plain": [
       "<AdjacencyList> with 12 nodes\n",
       "  0: [0 1 ]\n",
       "  1: [1 2 ]\n",
       "  2: [2 3 ]\n",
       "  3: [3 4 ]\n",
       "  4: [4 5 ]\n",
       "  5: [5 6 ]\n",
       "  6: [6 7 ]\n",
       "  7: [7 8 ]\n",
       "  8: [8 9 ]\n",
       "  9: [9 10 ]\n",
       "  10: [10 11 ]\n",
       "  11: [11 12 ]"
      ]
     },
     "execution_count": 7,
     "metadata": {},
     "output_type": "execute_result"
    }
   ],
   "source": [
    "connectivity_cells_to_vertices = mesh.topology.connectivity(mesh.topology.dim, 0)\n",
    "connectivity_cells_to_vertices"
   ]
  },
  {
   "cell_type": "code",
   "execution_count": 8,
   "metadata": {},
   "outputs": [
    {
     "data": {
      "text/plain": [
       "12"
      ]
     },
     "execution_count": 8,
     "metadata": {},
     "output_type": "execute_result"
    }
   ],
   "source": [
    "num_cells = len(connectivity_cells_to_vertices)\n",
    "num_cells"
   ]
  },
  {
   "cell_type": "markdown",
   "metadata": {},
   "source": [
    "We can have a look at each cell  by using a `for` loop. Each cell is assigned an unique ID and (in 1D) it is uniquely defined by two vertices, which correspond to the endpoints of the subinterval."
   ]
  },
  {
   "cell_type": "code",
   "execution_count": 9,
   "metadata": {},
   "outputs": [
    {
     "name": "stdout",
     "output_type": "stream",
     "text": [
      "Cell ID 0 is defined by the following vertices:\n",
      "\tVertex ID 0 is located at x = 0.0\n",
      "\tVertex ID 1 is located at x = 0.08333333333333333\n",
      "Cell ID 1 is defined by the following vertices:\n",
      "\tVertex ID 1 is located at x = 0.08333333333333333\n",
      "\tVertex ID 2 is located at x = 0.16666666666666666\n",
      "Cell ID 2 is defined by the following vertices:\n",
      "\tVertex ID 2 is located at x = 0.16666666666666666\n",
      "\tVertex ID 3 is located at x = 0.25\n",
      "Cell ID 3 is defined by the following vertices:\n",
      "\tVertex ID 3 is located at x = 0.25\n",
      "\tVertex ID 4 is located at x = 0.3333333333333333\n",
      "Cell ID 4 is defined by the following vertices:\n",
      "\tVertex ID 4 is located at x = 0.3333333333333333\n",
      "\tVertex ID 5 is located at x = 0.41666666666666663\n",
      "Cell ID 5 is defined by the following vertices:\n",
      "\tVertex ID 5 is located at x = 0.41666666666666663\n",
      "\tVertex ID 6 is located at x = 0.5\n",
      "Cell ID 6 is defined by the following vertices:\n",
      "\tVertex ID 6 is located at x = 0.5\n",
      "\tVertex ID 7 is located at x = 0.5833333333333333\n",
      "Cell ID 7 is defined by the following vertices:\n",
      "\tVertex ID 7 is located at x = 0.5833333333333333\n",
      "\tVertex ID 8 is located at x = 0.6666666666666666\n",
      "Cell ID 8 is defined by the following vertices:\n",
      "\tVertex ID 8 is located at x = 0.6666666666666666\n",
      "\tVertex ID 9 is located at x = 0.75\n",
      "Cell ID 9 is defined by the following vertices:\n",
      "\tVertex ID 9 is located at x = 0.75\n",
      "\tVertex ID 10 is located at x = 0.8333333333333333\n",
      "Cell ID 10 is defined by the following vertices:\n",
      "\tVertex ID 10 is located at x = 0.8333333333333333\n",
      "\tVertex ID 11 is located at x = 0.9166666666666666\n",
      "Cell ID 11 is defined by the following vertices:\n",
      "\tVertex ID 11 is located at x = 0.9166666666666666\n",
      "\tVertex ID 12 is located at x = 1.0\n"
     ]
    }
   ],
   "source": [
    "for c in range(num_cells):\n",
    "    # Print the ID of the current cell\n",
    "    print(\"Cell ID\", c, \"is defined by the following vertices:\")\n",
    "    # Print the vertices of the current cell\n",
    "    for v in connectivity_cells_to_vertices.links(c):\n",
    "        print(\"\\t\" + \"Vertex ID\", v, \"is located at x =\", points[v][0])"
   ]
  },
  {
   "cell_type": "markdown",
   "metadata": {},
   "source": [
    "Next, we identify the IDs corresponding to boundary nodes. We use the\n",
    "\n",
    "`dolfinx.mesh` function `locate_entities_boundary`. It requires the following inputs:\n",
    " * the first argument is the mesh,\n",
    " * the second argument represent the topological dimension of the mesh entities which we are interested in. In 1D, `mesh.topology.dim` is equal to 1, and entities of topological dimension 1 are the cells (subintervals), while `mesh.topology.dim - 1` is equal to 0, and entities of topological dimension 0 are the vertices of mesh.\n",
    " * the third argument is a condition (i.e., a function that returns either `True` or `False`) on the coordinates `x`, which are stored as a vector. Since we are interested in finding the vertex located at $x = 0$, we may think of using `x[0] == 0` as a condition: however, due to floating point arithmetic, it is safer to use $\\left|x - 0\\right| < \\varepsilon$, where $\\varepsilon$ is a small number, which may be written as `np.isclose(x[0], 0.0)`."
   ]
  },
  {
   "cell_type": "code",
   "execution_count": 10,
   "metadata": {},
   "outputs": [
    {
     "name": "stdout",
     "output_type": "stream",
     "text": [
      "[0]\n",
      "[12]\n"
     ]
    }
   ],
   "source": [
    "# Also the dimension is a topological info:\n",
    "tdim = mesh.topology.dim\n",
    "fdim = tdim - 1\n",
    "\n",
    "left_boundary_entities = dolfinx.mesh.locate_entities_boundary(\n",
    "    mesh, fdim, lambda x: np.isclose(x[0], 0.0))\n",
    "\n",
    "\n",
    "right_boundary_entities = dolfinx.mesh.locate_entities(\n",
    "    mesh, fdim, lambda x: np.isclose(x[0], 1.0))\n",
    "\n",
    "print(left_boundary_entities)\n",
    "print(right_boundary_entities)"
   ]
  },
  {
   "cell_type": "markdown",
   "metadata": {},
   "source": [
    "**Task 2: create FEM space.**\n",
    "\n",
    "We define the finite element function space $V_h$ using $\\mathbb{P}_2$ Lagrange elements.\n",
    "\n",
    "This is obtained using the `FunctionSpace` class of `dolfinx.fem`.\n",
    "\n",
    "The first argument specifies the mesh. The second the type of FE space. To define the standard (conforming) Lagrange elements we input `\"CG\"`. Using instead `\"Lagrange\"` or `\"P\"` yields the same space."
   ]
  },
  {
   "cell_type": "code",
   "execution_count": 11,
   "metadata": {},
   "outputs": [],
   "source": [
    "Vh = dolfinx.fem.functionspace(mesh, (\"P\", 2))"
   ]
  },
  {
   "cell_type": "code",
   "execution_count": 12,
   "metadata": {},
   "outputs": [
    {
     "data": {
      "text/plain": [
       "FunctionSpace(Mesh(blocked element (Basix element (P, interval, 1, gll_warped, unset, False, float64, []), (1,)), 0), Basix element (P, interval, 2, gll_warped, unset, False, float64, []))"
      ]
     },
     "execution_count": 12,
     "metadata": {},
     "output_type": "execute_result"
    }
   ],
   "source": [
    "Vh"
   ]
  },
  {
   "cell_type": "code",
   "execution_count": 13,
   "metadata": {},
   "outputs": [
    {
     "data": {
      "text/plain": [
       "25"
      ]
     },
     "execution_count": 13,
     "metadata": {},
     "output_type": "execute_result"
    }
   ],
   "source": [
    "Vh_dim = Vh.dofmap.index_map.size_local\n",
    "Vh_dim"
   ]
  },
  {
   "cell_type": "markdown",
   "metadata": {},
   "source": [
    "Once the FE space is at hand, we introduce *ufl*  (unified form language) symbols to define the trial and test functions for our weak formulation:"
   ]
  },
  {
   "cell_type": "code",
   "execution_count": 14,
   "metadata": {},
   "outputs": [],
   "source": [
    "uh = ufl.TrialFunction(Vh)\n",
    "vh = ufl.TestFunction(Vh)"
   ]
  },
  {
   "cell_type": "code",
   "execution_count": 15,
   "metadata": {},
   "outputs": [
    {
     "data": {
      "text/plain": [
       "Argument(FunctionSpace(Mesh(blocked element (Basix element (P, interval, 1, gll_warped, unset, False, float64, []), (1,)), 0), Basix element (P, interval, 2, gll_warped, unset, False, float64, [])), 1, None)"
      ]
     },
     "execution_count": 15,
     "metadata": {},
     "output_type": "execute_result"
    }
   ],
   "source": [
    "uh"
   ]
  },
  {
   "cell_type": "markdown",
   "metadata": {},
   "source": [
    "**Task 3:** Set up FEM system\n",
    "\n",
    "Now we are ready to define the FEM using the ufl capability.\n",
    "* `uh.dx(0)` corresponds to $\\frac{\\partial u}{\\partial x}$, where the argument `0` to `dx` means to take the derivative with respect to the first space coordinate (the only one of interest in this case).\n",
    "* `ufl.dx` provides a measure for integration over the domain. Integration will automatically occur over the entire domain."
   ]
  },
  {
   "cell_type": "code",
   "execution_count": 16,
   "metadata": {},
   "outputs": [],
   "source": [
    "dx = ufl.dx\n",
    "\n",
    "A = uh.dx(0) * vh.dx(0) * dx #bi-linear operator\n",
    "\n",
    "F = 2 * vh * dx"
   ]
  },
  {
   "cell_type": "markdown",
   "metadata": {},
   "source": [
    "**Task 4:** Apply boundary conditions\n",
    "\n",
    "It remains to implement the boundary conditions. To do so we:\n",
    "* determine the degree of freedom that corresponds to the boundary vertices.\n",
    "* define a `Constant` equal to `0` and a `Constant` equal to `1` corresponding to the values on the boundary.\n",
    "* create a list containing the Dirichlet boundary conditions (two in this case), that is the constraints on the FE function DoF:\n",
    "\n",
    "We can help ourselves looking at the following table, which has in the first colum the ID of the degree of freedom, and in the second column the corresponding 𝑥 coordinate."
   ]
  },
  {
   "cell_type": "code",
   "execution_count": 20,
   "metadata": {},
   "outputs": [],
   "source": [
    "left_boundary_dofs = dolfinx.fem.locate_dofs_topological(Vh, mesh.topology.dim-1, left_boundary_entities)\n",
    "right_boundary_dofs = dolfinx.fem.locate_dofs_topological(Vh, mesh.topology.dim-1, right_boundary_entities)"
   ]
  },
  {
   "cell_type": "code",
   "execution_count": 22,
   "metadata": {},
   "outputs": [],
   "source": [
    "zero = dolfinx.fem.Constant(mesh, 0.)\n",
    "one = dolfinx.fem.Constant(mesh, 1.)"
   ]
  },
  {
   "cell_type": "code",
   "execution_count": 24,
   "metadata": {},
   "outputs": [],
   "source": [
    "bcs = [dolfinx.fem.dirichletbc(zero, left_boundary_dofs, Vh), dolfinx.fem.dirichletbc(one, right_boundary_dofs, Vh)]"
   ]
  },
  {
   "cell_type": "code",
   "execution_count": 25,
   "metadata": {},
   "outputs": [
    {
     "data": {
      "text/plain": [
       "[<dolfinx.fem.bcs.DirichletBC at 0x76a229199e50>,\n",
       " <dolfinx.fem.bcs.DirichletBC at 0x76a229199b80>]"
      ]
     },
     "execution_count": 25,
     "metadata": {},
     "output_type": "execute_result"
    }
   ],
   "source": [
    "bcs"
   ]
  },
  {
   "cell_type": "markdown",
   "metadata": {},
   "source": [
    "**Task 5:** Solve the FEM system\n",
    "\n",
    "In order to solve the FEM system, we go through the following steps:\n",
    "\n",
    "* `dolfinx.fem` provides a `Function` class to store the solution of a finite element problem:\n",
    "* solve the discrete problem allocating a new `LinearProblem` (which uses `PETSc`), providing as input the bilinear form `a`, the linear functional `F`, the boundary conditions `bcs`, and where to store the solution. Further solver options can also be passed to `PETSc`."
   ]
  },
  {
   "cell_type": "code",
   "execution_count": null,
   "metadata": {},
   "outputs": [],
   "source": [
    "solution = dolfinx.fem.Function(Vh)"
   ]
  },
  {
   "cell_type": "code",
   "execution_count": 37,
   "metadata": {},
   "outputs": [],
   "source": [
    "problem = dolfinx.fem.petsc.LinearProblem(\n",
    "    A, F, bcs=bcs, u=solution,\n",
    "    petsc_options={\"ksp_type\": \"preonly\", \"pc_type\": \"lu\", \"pc_factor_mat_solver_type\": \"mumps\"})\n",
    "_ = problem.solve()"
   ]
  },
  {
   "cell_type": "markdown",
   "metadata": {},
   "source": [
    "**Task 6:** compute the $L^2$ and $H^1$ errors.\n",
    "\n",
    "The exact solution is:\n",
    "$$ u(x) = - x^2 + 2 x.$$\n",
    "\n",
    "The $L^2(I)$ norm of the error $u - u_h$ is defined as:\n",
    "$$ e_h^2 = \\int_I \\left(u(x) - u_h(x)\\right)^2 \\ \\mathrm{d}x.$$"
   ]
  },
  {
   "cell_type": "code",
   "execution_count": 41,
   "metadata": {},
   "outputs": [],
   "source": [
    "xyz = ufl.SpatialCoordinate(mesh)\n",
    "x = xyz[0]"
   ]
  },
  {
   "cell_type": "code",
   "execution_count": 43,
   "metadata": {},
   "outputs": [],
   "source": [
    "exact_solution = - x**2 + 2 * x"
   ]
  },
  {
   "cell_type": "code",
   "execution_count": 44,
   "metadata": {},
   "outputs": [],
   "source": [
    "error_L2squared_ufl = (exact_solution - solution)**2 * dx"
   ]
  },
  {
   "cell_type": "markdown",
   "metadata": {},
   "source": [
    "Note that, given that we are using quadratic elements, we expect the error to be zero!"
   ]
  },
  {
   "cell_type": "code",
   "execution_count": 45,
   "metadata": {},
   "outputs": [
    {
     "name": "stdout",
     "output_type": "stream",
     "text": [
      "4.748298230819104e-29\n"
     ]
    }
   ],
   "source": [
    "error_L2squared = dolfinx.fem.assemble_scalar(dolfinx.fem.form(error_L2squared_ufl))\n",
    "print(error_L2squared)"
   ]
  },
  {
   "cell_type": "code",
   "execution_count": 46,
   "metadata": {},
   "outputs": [
    {
     "data": {
      "text/plain": [
       "5.3487495367326724e-28"
      ]
     },
     "execution_count": 46,
     "metadata": {},
     "output_type": "execute_result"
    }
   ],
   "source": [
    "error_H1squared_ufl = (exact_solution.dx(0) - solution.dx(0) ) **2 * dx\n",
    "error_H1squared = dolfinx.fem.assemble_scalar(dolfinx.fem.form(error_H1squared_ufl))\n",
    "error_H1squared"
   ]
  }
 ],
 "metadata": {
  "kernelspec": {
   "display_name": "myenv",
   "language": "python",
   "name": "python3"
  },
  "language_info": {
   "codemirror_mode": {
    "name": "ipython",
    "version": 3
   },
   "file_extension": ".py",
   "mimetype": "text/x-python",
   "name": "python",
   "nbconvert_exporter": "python",
   "pygments_lexer": "ipython3",
   "version": "3.9.18"
  }
 },
 "nbformat": 4,
 "nbformat_minor": 2
}
