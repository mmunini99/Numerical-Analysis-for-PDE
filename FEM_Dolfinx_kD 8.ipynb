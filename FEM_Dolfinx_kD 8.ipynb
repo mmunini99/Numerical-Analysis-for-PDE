{
 "cells": [
  {
   "cell_type": "code",
   "execution_count": 1,
   "metadata": {},
   "outputs": [],
   "source": [
    "import numpy as np\n",
    "import mpi4py.MPI\n",
    "import dolfinx"
   ]
  },
  {
   "cell_type": "code",
   "execution_count": 2,
   "metadata": {},
   "outputs": [],
   "source": [
    "import dolfinx.fem\n",
    "import dolfinx.fem.petsc\n",
    "import dolfinx.mesh\n",
    "import mpi4py.MPI\n",
    "import numpy as np\n",
    "import petsc4py.PETSc\n",
    "import ufl"
   ]
  },
  {
   "cell_type": "code",
   "execution_count": 64,
   "metadata": {},
   "outputs": [],
   "source": [
    "import viskex\n",
    "import matplotlib.pyplot as plt\n",
    "import pyvista\n",
    "from dolfinx import plot"
   ]
  },
  {
   "cell_type": "code",
   "execution_count": 4,
   "metadata": {},
   "outputs": [],
   "source": [
    "from FEM_FENICS_Proj import unit_square_poisson_solve as pois_solv\n",
    "from FEM_FENICS_Proj import unit_square_solution_error as pois_err\n",
    "from FEM_FENICS_Proj import unit_square_structured_mesh"
   ]
  },
  {
   "cell_type": "markdown",
   "metadata": {},
   "source": [
    "We consider the model boundary value problem: find $u: \\Omega = (0, 1)^2 \\to \\mathbb{R}$ such that\n",
    "\n",
    "$$\n",
    "\\left\\{\n",
    "\\begin{array}{l}\n",
    "- \\Delta u = f, & x \\in \\Omega\\\\\n",
    "u = g, & x \\in \\partial\\Omega\n",
    "\n",
    "\\end{array}\n",
    "\\right.\n",
    "$$\n",
    "\n",
    "with $f\\equiv 1$ and the boundary value $g(\\mathbf{x})$ given by\n",
    "$$\n",
    "g(\\mathbf{x}) = g(x_0, x_1) = \\sin(3 \\pi x_0 + 1) \\ \\sin(3 \\pi x_1 + 1).\n",
    "$$\n",
    "\n",
    "\n",
    "\n",
    "\n"
   ]
  },
  {
   "cell_type": "markdown",
   "metadata": {},
   "source": [
    "**Task 1: create a mesh.** As first example, we generate a triangular mesh of the domain $\\Omega$, dividing both the horizontal and vertical sides of the square in $n$ x $m$ equispaced subintervals.\n",
    "\n",
    "Similarly to 1D case, `dolfinx.mesh` provides the function `create_unit_square` for this task."
   ]
  },
  {
   "cell_type": "code",
   "execution_count": 5,
   "metadata": {},
   "outputs": [],
   "source": [
    "n = 10\n",
    "m = 15\n",
    "mesh = dolfinx.mesh.create_unit_square(mpi4py.MPI.COMM_WORLD, n, m)"
   ]
  },
  {
   "cell_type": "markdown",
   "metadata": {},
   "source": [
    "Let's see how many cells are in the mesh.\n",
    "\n",
    "We store in:\n",
    "* tdim: the problem dimension (2)\n",
    "* fdim: the mesh scheleton entities dimension (1)\n",
    "* num_cells: the number of triangles in the mesh\n",
    "\n",
    "We can extract the num_cells information as we did in the 1D case from the connectivity or directly..."
   ]
  },
  {
   "cell_type": "code",
   "execution_count": 6,
   "metadata": {},
   "outputs": [
    {
     "name": "stdout",
     "output_type": "stream",
     "text": [
      "2\n",
      "<AdjacencyList> with 300 nodes\n",
      "  0: [0 1 2 ]\n",
      "  1: [0 3 2 ]\n",
      "  2: [4 0 3 ]\n",
      "  3: [3 2 5 ]\n",
      "  4: [4 6 3 ]\n",
      "  5: [3 7 5 ]\n",
      "  6: [8 4 6 ]\n",
      "  7: [6 3 7 ]\n",
      "  8: [7 5 9 ]\n",
      "  9: [8 10 6 ]\n",
      "  10: [6 11 7 ]\n",
      "  11: [7 12 9 ]\n",
      "  12: [13 8 10 ]\n",
      "  13: [10 6 11 ]\n",
      "  14: [11 7 12 ]\n",
      "  15: [12 9 14 ]\n",
      "  16: [13 15 10 ]\n",
      "  17: [10 16 11 ]\n",
      "  18: [11 17 12 ]\n",
      "  19: [12 18 14 ]\n",
      "  20: [19 13 15 ]\n",
      "  21: [15 10 16 ]\n",
      "  22: [16 11 17 ]\n",
      "  23: [17 12 18 ]\n",
      "  24: [18 14 20 ]\n",
      "  25: [19 21 15 ]\n",
      "  26: [15 22 16 ]\n",
      "  27: [16 23 17 ]\n",
      "  28: [17 24 18 ]\n",
      "  29: [18 25 20 ]\n",
      "  30: [26 19 21 ]\n",
      "  31: [21 15 22 ]\n",
      "  32: [22 16 23 ]\n",
      "  33: [23 17 24 ]\n",
      "  34: [24 18 25 ]\n",
      "  35: [25 20 27 ]\n",
      "  36: [26 28 21 ]\n",
      "  37: [21 29 22 ]\n",
      "  38: [22 30 23 ]\n",
      "  39: [23 31 24 ]\n",
      "  40: [24 32 25 ]\n",
      "  41: [25 33 27 ]\n",
      "  42: [34 26 28 ]\n",
      "  43: [28 21 29 ]\n",
      "  44: [29 22 30 ]\n",
      "  45: [30 23 31 ]\n",
      "  46: [31 24 32 ]\n",
      "  47: [32 25 33 ]\n",
      "  48: [33 27 35 ]\n",
      "  49: [34 36 28 ]\n",
      "  50: [28 37 29 ]\n",
      "  51: [29 38 30 ]\n",
      "  52: [30 39 31 ]\n",
      "  53: [31 40 32 ]\n",
      "  54: [32 41 33 ]\n",
      "  55: [33 42 35 ]\n",
      "  56: [43 34 36 ]\n",
      "  57: [36 28 37 ]\n",
      "  58: [37 29 38 ]\n",
      "  59: [38 30 39 ]\n",
      "  60: [39 31 40 ]\n",
      "  61: [40 32 41 ]\n",
      "  62: [41 33 42 ]\n",
      "  63: [42 35 44 ]\n",
      "  64: [43 45 36 ]\n",
      "  65: [36 46 37 ]\n",
      "  66: [37 47 38 ]\n",
      "  67: [38 48 39 ]\n",
      "  68: [39 49 40 ]\n",
      "  69: [40 50 41 ]\n",
      "  70: [41 51 42 ]\n",
      "  71: [42 52 44 ]\n",
      "  72: [53 43 45 ]\n",
      "  73: [45 36 46 ]\n",
      "  74: [46 37 47 ]\n",
      "  75: [47 38 48 ]\n",
      "  76: [48 39 49 ]\n",
      "  77: [49 40 50 ]\n",
      "  78: [50 41 51 ]\n",
      "  79: [51 42 52 ]\n",
      "  80: [52 44 54 ]\n",
      "  81: [53 55 45 ]\n",
      "  82: [45 56 46 ]\n",
      "  83: [46 57 47 ]\n",
      "  84: [47 58 48 ]\n",
      "  85: [48 59 49 ]\n",
      "  86: [49 60 50 ]\n",
      "  87: [50 61 51 ]\n",
      "  88: [51 62 52 ]\n",
      "  89: [52 63 54 ]\n",
      "  90: [64 53 55 ]\n",
      "  91: [55 45 56 ]\n",
      "  92: [56 46 57 ]\n",
      "  93: [57 47 58 ]\n",
      "  94: [58 48 59 ]\n",
      "  95: [59 49 60 ]\n",
      "  96: [60 50 61 ]\n",
      "  97: [61 51 62 ]\n",
      "  98: [62 52 63 ]\n",
      "  99: [63 54 65 ]\n",
      "  100: [64 66 55 ]\n",
      "  101: [55 67 56 ]\n",
      "  102: [56 68 57 ]\n",
      "  103: [57 69 58 ]\n",
      "  104: [58 70 59 ]\n",
      "  105: [59 71 60 ]\n",
      "  106: [60 72 61 ]\n",
      "  107: [61 73 62 ]\n",
      "  108: [62 74 63 ]\n",
      "  109: [63 75 65 ]\n",
      "  110: [66 55 67 ]\n",
      "  111: [67 56 68 ]\n",
      "  112: [68 57 69 ]\n",
      "  113: [69 58 70 ]\n",
      "  114: [70 59 71 ]\n",
      "  115: [71 60 72 ]\n",
      "  116: [72 61 73 ]\n",
      "  117: [73 62 74 ]\n",
      "  118: [74 63 75 ]\n",
      "  119: [75 65 76 ]\n",
      "  120: [66 77 67 ]\n",
      "  121: [67 78 68 ]\n",
      "  122: [68 79 69 ]\n",
      "  123: [69 80 70 ]\n",
      "  124: [70 81 71 ]\n",
      "  125: [71 82 72 ]\n",
      "  126: [72 83 73 ]\n",
      "  127: [73 84 74 ]\n",
      "  128: [74 85 75 ]\n",
      "  129: [75 86 76 ]\n",
      "  130: [77 67 78 ]\n",
      "  131: [78 68 79 ]\n",
      "  132: [79 69 80 ]\n",
      "  133: [80 70 81 ]\n",
      "  134: [81 71 82 ]\n",
      "  135: [82 72 83 ]\n",
      "  136: [83 73 84 ]\n",
      "  137: [84 74 85 ]\n",
      "  138: [85 75 86 ]\n",
      "  139: [86 76 87 ]\n",
      "  140: [77 88 78 ]\n",
      "  141: [78 89 79 ]\n",
      "  142: [79 90 80 ]\n",
      "  143: [80 91 81 ]\n",
      "  144: [81 92 82 ]\n",
      "  145: [82 93 83 ]\n",
      "  146: [83 94 84 ]\n",
      "  147: [84 95 85 ]\n",
      "  148: [85 96 86 ]\n",
      "  149: [86 97 87 ]\n",
      "  150: [88 78 89 ]\n",
      "  151: [89 79 90 ]\n",
      "  152: [90 80 91 ]\n",
      "  153: [91 81 92 ]\n",
      "  154: [92 82 93 ]\n",
      "  155: [93 83 94 ]\n",
      "  156: [94 84 95 ]\n",
      "  157: [95 85 96 ]\n",
      "  158: [96 86 97 ]\n",
      "  159: [97 87 98 ]\n",
      "  160: [88 99 89 ]\n",
      "  161: [89 100 90 ]\n",
      "  162: [90 101 91 ]\n",
      "  163: [91 102 92 ]\n",
      "  164: [92 103 93 ]\n",
      "  165: [93 104 94 ]\n",
      "  166: [94 105 95 ]\n",
      "  167: [95 106 96 ]\n",
      "  168: [96 107 97 ]\n",
      "  169: [97 108 98 ]\n",
      "  170: [99 89 100 ]\n",
      "  171: [100 90 101 ]\n",
      "  172: [101 91 102 ]\n",
      "  173: [102 92 103 ]\n",
      "  174: [103 93 104 ]\n",
      "  175: [104 94 105 ]\n",
      "  176: [105 95 106 ]\n",
      "  177: [106 96 107 ]\n",
      "  178: [107 97 108 ]\n",
      "  179: [108 98 109 ]\n",
      "  180: [99 110 100 ]\n",
      "  181: [100 111 101 ]\n",
      "  182: [101 112 102 ]\n",
      "  183: [102 113 103 ]\n",
      "  184: [103 114 104 ]\n",
      "  185: [104 115 105 ]\n",
      "  186: [105 116 106 ]\n",
      "  187: [106 117 107 ]\n",
      "  188: [107 118 108 ]\n",
      "  189: [108 119 109 ]\n",
      "  190: [110 100 111 ]\n",
      "  191: [111 101 112 ]\n",
      "  192: [112 102 113 ]\n",
      "  193: [113 103 114 ]\n",
      "  194: [114 104 115 ]\n",
      "  195: [115 105 116 ]\n",
      "  196: [116 106 117 ]\n",
      "  197: [117 107 118 ]\n",
      "  198: [118 108 119 ]\n",
      "  199: [119 109 120 ]\n",
      "  200: [110 121 111 ]\n",
      "  201: [111 122 112 ]\n",
      "  202: [112 123 113 ]\n",
      "  203: [113 124 114 ]\n",
      "  204: [114 125 115 ]\n",
      "  205: [115 126 116 ]\n",
      "  206: [116 127 117 ]\n",
      "  207: [117 128 118 ]\n",
      "  208: [118 129 119 ]\n",
      "  209: [119 130 120 ]\n",
      "  210: [121 111 122 ]\n",
      "  211: [122 112 123 ]\n",
      "  212: [123 113 124 ]\n",
      "  213: [124 114 125 ]\n",
      "  214: [125 115 126 ]\n",
      "  215: [126 116 127 ]\n",
      "  216: [127 117 128 ]\n",
      "  217: [128 118 129 ]\n",
      "  218: [129 119 130 ]\n",
      "  219: [121 131 122 ]\n",
      "  220: [122 132 123 ]\n",
      "  221: [123 133 124 ]\n",
      "  222: [124 134 125 ]\n",
      "  223: [125 135 126 ]\n",
      "  224: [126 136 127 ]\n",
      "  225: [127 137 128 ]\n",
      "  226: [128 138 129 ]\n",
      "  227: [129 139 130 ]\n",
      "  228: [131 122 132 ]\n",
      "  229: [132 123 133 ]\n",
      "  230: [133 124 134 ]\n",
      "  231: [134 125 135 ]\n",
      "  232: [135 126 136 ]\n",
      "  233: [136 127 137 ]\n",
      "  234: [137 128 138 ]\n",
      "  235: [138 129 139 ]\n",
      "  236: [131 140 132 ]\n",
      "  237: [132 141 133 ]\n",
      "  238: [133 142 134 ]\n",
      "  239: [134 143 135 ]\n",
      "  240: [135 144 136 ]\n",
      "  241: [136 145 137 ]\n",
      "  242: [137 146 138 ]\n",
      "  243: [138 147 139 ]\n",
      "  244: [140 132 141 ]\n",
      "  245: [141 133 142 ]\n",
      "  246: [142 134 143 ]\n",
      "  247: [143 135 144 ]\n",
      "  248: [144 136 145 ]\n",
      "  249: [145 137 146 ]\n",
      "  250: [146 138 147 ]\n",
      "  251: [140 148 141 ]\n",
      "  252: [141 149 142 ]\n",
      "  253: [142 150 143 ]\n",
      "  254: [143 151 144 ]\n",
      "  255: [144 152 145 ]\n",
      "  256: [145 153 146 ]\n",
      "  257: [146 154 147 ]\n",
      "  258: [148 141 149 ]\n",
      "  259: [149 142 150 ]\n",
      "  260: [150 143 151 ]\n",
      "  261: [151 144 152 ]\n",
      "  262: [152 145 153 ]\n",
      "  263: [153 146 154 ]\n",
      "  264: [148 155 149 ]\n",
      "  265: [149 156 150 ]\n",
      "  266: [150 157 151 ]\n",
      "  267: [151 158 152 ]\n",
      "  268: [152 159 153 ]\n",
      "  269: [153 160 154 ]\n",
      "  270: [155 149 156 ]\n",
      "  271: [156 150 157 ]\n",
      "  272: [157 151 158 ]\n",
      "  273: [158 152 159 ]\n",
      "  274: [159 153 160 ]\n",
      "  275: [155 161 156 ]\n",
      "  276: [156 162 157 ]\n",
      "  277: [157 163 158 ]\n",
      "  278: [158 164 159 ]\n",
      "  279: [159 165 160 ]\n",
      "  280: [161 156 162 ]\n",
      "  281: [162 157 163 ]\n",
      "  282: [163 158 164 ]\n",
      "  283: [164 159 165 ]\n",
      "  284: [161 166 162 ]\n",
      "  285: [162 167 163 ]\n",
      "  286: [163 168 164 ]\n",
      "  287: [164 169 165 ]\n",
      "  288: [166 162 167 ]\n",
      "  289: [167 163 168 ]\n",
      "  290: [168 164 169 ]\n",
      "  291: [166 170 167 ]\n",
      "  292: [167 171 168 ]\n",
      "  293: [168 172 169 ]\n",
      "  294: [170 167 171 ]\n",
      "  295: [171 168 172 ]\n",
      "  296: [170 173 171 ]\n",
      "  297: [171 174 172 ]\n",
      "  298: [173 171 174 ]\n",
      "  299: [173 175 174 ]\n",
      "\n",
      "300\n",
      "300\n"
     ]
    }
   ],
   "source": [
    "tdim = mesh.topology.dim\n",
    "print(tdim)\n",
    "fdim = tdim - 1\n",
    "\n",
    "connectivity_cells_to_vertices = mesh.topology.connectivity(mesh.topology.dim,0)\n",
    "print(connectivity_cells_to_vertices)\n",
    "num_cells = len(connectivity_cells_to_vertices)\n",
    "print(num_cells)\n",
    "\n",
    "num_cells = mesh.topology.index_map(tdim).size_local\n",
    "print(num_cells)"
   ]
  },
  {
   "cell_type": "markdown",
   "metadata": {},
   "source": [
    "We can obtain an interactive plot of the domain using `pyvista`. (Click on the menu: next to the dropdown that contains \"Geometry 0\" you may find three different representations: the domain itself, the edges of the mesh, and both overlayed.)"
   ]
  },
  {
   "cell_type": "code",
   "execution_count": null,
   "metadata": {},
   "outputs": [
    {
     "name": "stderr",
     "output_type": "stream",
     "text": [
      "Exception raised\n",
      "KeyError('a93a84a44f713b138b32a48c6b9b23f4_200d')\n",
      "Traceback (most recent call last):\n",
      "  File \"/home/matteo/miniconda3/envs/myenv/lib/python3.9/site-packages/wslink/protocol.py\", line 313, in onCompleteMessage\n",
      "    results = func(*args, **kwargs)\n",
      "  File \"/home/matteo/miniconda3/envs/myenv/lib/python3.9/site-packages/trame_vtk/modules/vtk/protocols/local_rendering.py\", line 33, in get_array\n",
      "    self.context.get_cached_data_array(data_hash, binary)\n",
      "  File \"/home/matteo/miniconda3/envs/myenv/lib/python3.9/site-packages/trame_vtk/modules/vtk/serializers/synchronization_context.py\", line 35, in get_cached_data_array\n",
      "    cache_obj = self.data_array_cache[p_md5]\n",
      "KeyError: 'a93a84a44f713b138b32a48c6b9b23f4_200d'\n",
      "\n",
      "Exception raised\n",
      "KeyError('6696cd8520d3d3e4286e98cde3effa31_121d')\n",
      "Traceback (most recent call last):\n",
      "  File \"/home/matteo/miniconda3/envs/myenv/lib/python3.9/site-packages/wslink/protocol.py\", line 313, in onCompleteMessage\n",
      "    results = func(*args, **kwargs)\n",
      "  File \"/home/matteo/miniconda3/envs/myenv/lib/python3.9/site-packages/trame_vtk/modules/vtk/protocols/local_rendering.py\", line 33, in get_array\n",
      "    self.context.get_cached_data_array(data_hash, binary)\n",
      "  File \"/home/matteo/miniconda3/envs/myenv/lib/python3.9/site-packages/trame_vtk/modules/vtk/serializers/synchronization_context.py\", line 35, in get_cached_data_array\n",
      "    cache_obj = self.data_array_cache[p_md5]\n",
      "KeyError: '6696cd8520d3d3e4286e98cde3effa31_121d'\n",
      "\n",
      "Exception raised\n",
      "KeyError('30816301468f9f3f574e3d282d8b36a3_121d')\n",
      "Traceback (most recent call last):\n",
      "  File \"/home/matteo/miniconda3/envs/myenv/lib/python3.9/site-packages/wslink/protocol.py\", line 313, in onCompleteMessage\n",
      "    results = func(*args, **kwargs)\n",
      "  File \"/home/matteo/miniconda3/envs/myenv/lib/python3.9/site-packages/trame_vtk/modules/vtk/protocols/local_rendering.py\", line 33, in get_array\n",
      "    self.context.get_cached_data_array(data_hash, binary)\n",
      "  File \"/home/matteo/miniconda3/envs/myenv/lib/python3.9/site-packages/trame_vtk/modules/vtk/serializers/synchronization_context.py\", line 35, in get_cached_data_array\n",
      "    cache_obj = self.data_array_cache[p_md5]\n",
      "KeyError: '30816301468f9f3f574e3d282d8b36a3_121d'\n",
      "\n"
     ]
    }
   ],
   "source": [
    "viskex.dolfinx.plot_mesh(mesh)"
   ]
  },
  {
   "cell_type": "markdown",
   "metadata": {},
   "source": [
    "**Task 2:** Determine IDs of boundary edges in view of the application of the Dirichlet boundary condition.\n",
    "\n",
    "As in 1D case, this is obtained via the `dolfinx.mesh` `locate_entities_boundary` function. We want all edges on the boundary, but the function always requires a third input to permit the selection of parts of the boundary. As a workaround to this, we pass as third argument the function which always returns `True`."
   ]
  },
  {
   "cell_type": "code",
   "execution_count": 8,
   "metadata": {},
   "outputs": [
    {
     "data": {
      "text/plain": [
       "array([  0,   3,   4,   6,  12,  14,  23,  25,  37,  39,  54,  56,  74,\n",
       "        76,  97,  99, 123, 125, 152, 154, 183, 185, 187, 216, 218, 247,\n",
       "       249, 278, 280, 309, 311, 339, 341, 366, 368, 390, 392, 411, 413,\n",
       "       429, 431, 444, 446, 456, 458, 465, 467, 471, 473, 474], dtype=int32)"
      ]
     },
     "execution_count": 8,
     "metadata": {},
     "output_type": "execute_result"
    }
   ],
   "source": [
    "boundary_entities = dolfinx.mesh.locate_entities_boundary(\n",
    "    mesh, fdim, lambda x: np.full((x.shape[1], ), True))\n",
    "boundary_entities"
   ]
  },
  {
   "cell_type": "markdown",
   "metadata": {},
   "source": [
    "We can store the boundary entites in a `dolfinx.mesh` `MeshTags` object, and plot it using `viskex` to check this was done correctly."
   ]
  },
  {
   "cell_type": "code",
   "execution_count": 9,
   "metadata": {},
   "outputs": [
    {
     "data": {
      "application/vnd.jupyter.widget-view+json": {
       "model_id": "158074c5fd564e0fbf6121e94f21eccb",
       "version_major": 2,
       "version_minor": 0
      },
      "text/plain": [
       "Widget(value='<iframe src=\"http://localhost:35885/index.html?ui=P_0x759b06c74df0_1&reconnect=auto\" class=\"pyvi…"
      ]
     },
     "metadata": {},
     "output_type": "display_data"
    }
   ],
   "source": [
    "boundaries = dolfinx.mesh.meshtags(\n",
    "    mesh, fdim, boundary_entities, np.ones_like(boundary_entities))\n",
    "\n",
    "viskex.dolfinx.plot_mesh_tags(mesh, boundaries, \"boundaries\")"
   ]
  },
  {
   "cell_type": "markdown",
   "metadata": {},
   "source": [
    "**Task 3: create FEM space.**\n",
    "\n",
    "Define the finite element function space $V_h$ using $\\mathbb{P}_1$ Lagrange elements.\n",
    "\n",
    "This part of the code is indistinguishable from the 1D version..."
   ]
  },
  {
   "cell_type": "code",
   "execution_count": 10,
   "metadata": {},
   "outputs": [
    {
     "data": {
      "text/plain": [
       "176"
      ]
     },
     "execution_count": 10,
     "metadata": {},
     "output_type": "execute_result"
    }
   ],
   "source": [
    "Vh = dolfinx.fem.functionspace(mesh, (\"Lagrange\", 1))\n",
    "Vh_dim = Vh.dofmap.index_map.size_local\n",
    "Vh_dim"
   ]
  },
  {
   "cell_type": "markdown",
   "metadata": {},
   "source": [
    "Once the FE space is at hand, we introduce ufl symbols to define the trial and test functions for our weak formulation:"
   ]
  },
  {
   "cell_type": "code",
   "execution_count": 11,
   "metadata": {},
   "outputs": [],
   "source": [
    "uh = ufl.TrialFunction(Vh)\n",
    "vh = ufl.TestFunction(Vh)"
   ]
  },
  {
   "cell_type": "code",
   "execution_count": 12,
   "metadata": {},
   "outputs": [
    {
     "data": {
      "text/plain": [
       "Argument(FunctionSpace(Mesh(blocked element (Basix element (P, triangle, 1, gll_warped, unset, False, float64, []), (2,)), 0), Basix element (P, triangle, 1, gll_warped, unset, False, float64, [])), 1, None)"
      ]
     },
     "execution_count": 12,
     "metadata": {},
     "output_type": "execute_result"
    }
   ],
   "source": [
    "uh"
   ]
  },
  {
   "cell_type": "markdown",
   "metadata": {},
   "source": [
    "**Task 4:** set up FEM system\n",
    "\n",
    "We produce the weak formulation of the problem: find $u_h\\in V_h$ such that\n",
    "$$ \\int_\\Omega \\nabla u \\cdot \\nabla v \\ \\mathrm{d} \\mathbf{x} = \\int_\\Omega f \\ v \\ \\mathrm{d} \\mathbf{x},\\qquad\\forall v_h\\in V_h$$\n",
    "using `ufl`."
   ]
  },
  {
   "cell_type": "code",
   "execution_count": 13,
   "metadata": {},
   "outputs": [],
   "source": [
    "dx = ufl.dx\n",
    "inner = ufl.inner\n",
    "grad = ufl.grad\n",
    "# LHS\n",
    "A = inner(grad(uh), grad(vh)) * dx\n",
    "# RHS\n",
    "F = vh * dx"
   ]
  },
  {
   "cell_type": "code",
   "execution_count": 14,
   "metadata": {},
   "outputs": [
    {
     "data": {
      "text/plain": [
       "Form([Integral(Conj(Inner(Grad(Argument(FunctionSpace(Mesh(blocked element (Basix element (P, triangle, 1, gll_warped, unset, False, float64, []), (2,)), 0), Basix element (P, triangle, 1, gll_warped, unset, False, float64, [])), 0, None)), Grad(Argument(FunctionSpace(Mesh(blocked element (Basix element (P, triangle, 1, gll_warped, unset, False, float64, []), (2,)), 0), Basix element (P, triangle, 1, gll_warped, unset, False, float64, [])), 1, None)))), 'cell', Mesh(blocked element (Basix element (P, triangle, 1, gll_warped, unset, False, float64, []), (2,)), 0), 'everywhere', {}, None)])"
      ]
     },
     "execution_count": 14,
     "metadata": {},
     "output_type": "execute_result"
    }
   ],
   "source": [
    "A"
   ]
  },
  {
   "cell_type": "markdown",
   "metadata": {},
   "source": [
    "**Task 5:** set up the boundary conditions\n",
    "\n",
    "In order to assign the boundary condition we first need to evaluate the expression of $g$ (i.e. $\\sin(3 \\pi x_0 + 1) \\ \\sin(3 \\pi x_1 + 1)$ in our case) on the finite element space $V_h$. We do this by interpolation, so we define the discrete boundary condition as\n",
    "$$g_h=I_h g$$\n",
    "\n",
    "with $I_h$ the interpolation operator."
   ]
  },
  {
   "cell_type": "code",
   "execution_count": 15,
   "metadata": {},
   "outputs": [],
   "source": [
    "gh = dolfinx.fem.Function(Vh)\n",
    "gh.interpolate(lambda x: np.sin(3 * np.pi * x[0] + 1) * np.sin(3 * np.pi * x[1] + 1))"
   ]
  },
  {
   "cell_type": "markdown",
   "metadata": {},
   "source": [
    "We then initialize a `dolfinx.fem` `dirichletbc` object, stating that the Dirichlet boundary condition should be equal to `gh` on each facet in `boundary_entities`."
   ]
  },
  {
   "cell_type": "code",
   "execution_count": 16,
   "metadata": {},
   "outputs": [],
   "source": [
    "boundary_dofs = dolfinx.fem.locate_dofs_topological(Vh, fdim, boundary_entities)\n",
    "bc = dolfinx.fem.dirichletbc(gh, boundary_dofs)"
   ]
  },
  {
   "cell_type": "markdown",
   "metadata": {},
   "source": [
    "**Task 6:** solve the FEM system.\n",
    "\n",
    "As in 1D case, we have to first provide a `Function` class to store the solution of a finite element problem and then we are ready to solve the discrete problem allocating a new `LinearProblem` (which uses `PETSc`), providing as input the bilinear form `a`, the linear functional `F`, the boundary conditions `bcs`, and where to store the solution. Further solver options can also be passed to `PETSc`."
   ]
  },
  {
   "cell_type": "code",
   "execution_count": 17,
   "metadata": {},
   "outputs": [],
   "source": [
    "solution = dolfinx.fem.Function(Vh)"
   ]
  },
  {
   "cell_type": "code",
   "execution_count": 18,
   "metadata": {},
   "outputs": [],
   "source": [
    "problem = dolfinx.fem.petsc.LinearProblem(\n",
    "    A, F, bcs=[bc], u=solution,\n",
    "    petsc_options={\"ksp_type\": \"preonly\", \"pc_type\": \"lu\", \"pc_factor_mat_solver_type\": \"mumps\"})\n",
    "uh_prob = problem.solve()"
   ]
  },
  {
   "cell_type": "code",
   "execution_count": null,
   "metadata": {},
   "outputs": [],
   "source": [
    "pyvista.start_xvfb()\n",
    "mesh.topology.create_connectivity(tdim, tdim)\n",
    "topology, cell_types, geometry = plot.vtk_mesh(mesh, tdim)\n",
    "grid = pyvista.UnstructuredGrid(topology, cell_types, geometry)"
   ]
  },
  {
   "cell_type": "code",
   "execution_count": 20,
   "metadata": {},
   "outputs": [],
   "source": [
    "plotter = pyvista.Plotter()\n",
    "plotter.add_mesh(grid, show_edges=True)\n",
    "plotter.view_xy()"
   ]
  },
  {
   "cell_type": "code",
   "execution_count": 21,
   "metadata": {},
   "outputs": [
    {
     "data": {
      "application/vnd.jupyter.widget-view+json": {
       "model_id": "cdecfc0a7c2540caa34a2602e7a1fbbc",
       "version_major": 2,
       "version_minor": 0
      },
      "text/plain": [
       "Widget(value='<iframe src=\"http://localhost:35885/index.html?ui=P_0x759b0635bf40_2&reconnect=auto\" class=\"pyvi…"
      ]
     },
     "metadata": {},
     "output_type": "display_data"
    }
   ],
   "source": [
    "plotter.show()"
   ]
  },
  {
   "cell_type": "code",
   "execution_count": 22,
   "metadata": {},
   "outputs": [],
   "source": [
    "u_topology, u_cell_types, u_geometry = plot.vtk_mesh(Vh)"
   ]
  },
  {
   "cell_type": "code",
   "execution_count": 23,
   "metadata": {},
   "outputs": [
    {
     "data": {
      "application/vnd.jupyter.widget-view+json": {
       "model_id": "2ceaf58cc44b4dc38a31493252612c24",
       "version_major": 2,
       "version_minor": 0
      },
      "text/plain": [
       "Widget(value='<iframe src=\"http://localhost:35885/index.html?ui=P_0x759b0635be80_3&reconnect=auto\" class=\"pyvi…"
      ]
     },
     "metadata": {},
     "output_type": "display_data"
    }
   ],
   "source": [
    "u_grid = pyvista.UnstructuredGrid(u_topology, u_cell_types, u_geometry)\n",
    "u_grid.point_data[\"u\"] = solution.x.array.real\n",
    "u_grid.set_active_scalars(\"u\")\n",
    "u_plotter = pyvista.Plotter()\n",
    "u_plotter.add_mesh(u_grid, show_edges=True)\n",
    "u_plotter.view_xy()\n",
    "u_plotter.show()"
   ]
  },
  {
   "cell_type": "markdown",
   "metadata": {},
   "source": [
    "To test convergence, let us consider a problem where we fix the exact solution. Find $u: \\Omega \\to \\mathbb{R}$ such that\n",
    "\n",
    "$$\n",
    "\\left\\{\n",
    "\\begin{array}{l}\n",
    "- \\Delta u = f, & x \\in \\Omega\\\\\n",
    "u = g, & x \\in \\partial\\Omega\n",
    "\n",
    "\\end{array}\n",
    "\\right.\n",
    "$$\n",
    "where\n",
    "$$\\Omega = (0, 1)^2$$\n",
    "and $f$ and $g$ are chosen such that the exact solution to the strong formulation is\n",
    "$$u_{\\text{ex}}(x, y) = \\sin(2 \\pi x) \\ \\cos(2 \\pi y).$$\n",
    "\n",
    "Thus,\n",
    "$$f := - \\Delta u_{\\text{ex}} = - \\partial_{xx} u_{\\text{ex}} - \\partial_{yy} u_{\\text{ex}} = 8 \\pi^2 \\ \\sin(2 \\pi x) \\ \\cos(2 \\pi y).$$\n",
    "> Furthermore, by splitting the boundary $\\partial\\Omega$ in the four sides of the square $\\Omega$, we have\n",
    "\\begin{equation*}\n",
    "\\begin{cases}\n",
    "g_1(y) = g(0, y) := u_{\\text{ex}}(0, y) = 0, & \\text{on } \\Gamma_1 = \\left\\{0\\right\\} \\times [0, 1],\\\\\n",
    "g_2(x) = g(x, 0) := u_{\\text{ex}}(x, 0) = \\sin(2 \\pi x), & \\text{on } \\Gamma_2 = [0, 1] \\times \\left\\{0\\right\\},\\\\\n",
    "g_3(y) = g(1, y) := u_{\\text{ex}}(1, y) = 0, & \\text{on } \\Gamma_3 = \\left\\{1\\right\\} \\times [0, 1],\\\\\n",
    "g_4(y) = g(x, 1) := u_{\\text{ex}}(x, 1) = \\sin(2 \\pi x), & \\text{on } \\Gamma_4 = [0, 1] \\times \\left\\{1\\right\\},\\\\\n",
    "\\end{cases}\n",
    "\\end{equation*}"
   ]
  },
  {
   "cell_type": "markdown",
   "metadata": {},
   "source": [
    "We want to generate a structured triangular mesh of the domain Ω, dividing both the horizontal and vertical sides of the square in n equispaced subintervals. The function should also locate boundaries Γ1,Γ2,Γ3 and Γ4.\n",
    "\n",
    "We write the function unit_square_structured_mesh(n) using the builtin dolfinx.mesh.create_unit_square structured mesh generator and the boundary marking through four calls to dolfinx.mesh.locate_entities_boundary."
   ]
  },
  {
   "cell_type": "markdown",
   "metadata": {},
   "source": [
    "We test the implementation on the case $n = 10$, visualizing the resulting mesh and boundary labels."
   ]
  },
  {
   "cell_type": "code",
   "execution_count": 24,
   "metadata": {},
   "outputs": [
    {
     "data": {
      "application/vnd.jupyter.widget-view+json": {
       "model_id": "4e919dff583e4fb4a05ac28ae62498dc",
       "version_major": 2,
       "version_minor": 0
      },
      "text/plain": [
       "Widget(value='<iframe src=\"http://localhost:35885/index.html?ui=P_0x759b062eadc0_4&reconnect=auto\" class=\"pyvi…"
      ]
     },
     "metadata": {},
     "output_type": "display_data"
    }
   ],
   "source": [
    "mesh_10, boundaries_10 = unit_square_structured_mesh(10)\n",
    "\n",
    "viskex.dolfinx.plot_mesh(mesh_10)"
   ]
  },
  {
   "cell_type": "markdown",
   "metadata": {},
   "source": [
    "Next we write the function `unit_square_poisson_solve(mesh, boundaries, order)` combining the usual steps that we carry out when solving a finite element problem with FEniCS: (i) definition of a finite element space, (ii) definition of the weak form, (iii) definition of the boundary conditions, (iv) linear system assembly, and (v) linear system solve.\n",
    "\n",
    "For the solving fase, we access the library KSP of linear system solvers from PETSc"
   ]
  },
  {
   "cell_type": "code",
   "execution_count": 25,
   "metadata": {},
   "outputs": [],
   "source": [
    "x = ufl.SpatialCoordinate(mesh_10)\n",
    "rhs_ufl =  8 * ufl.pi**2 * ufl.sin(2 * ufl.pi * x[0]) * ufl.cos(2 * ufl.pi * x[1])\n",
    "func_bound = lambda x: np.sin(2 * np.pi * x[0])\n",
    "\n",
    "\n",
    "_, A_10, solution_10 = pois_solv(mesh_10, boundaries_10, 1, rhs_ufl, func_bound, x)"
   ]
  },
  {
   "cell_type": "markdown",
   "metadata": {},
   "source": [
    "Finally, the main task: computing errors.\n",
    "\n",
    "To this end, we write a function `unit_square_solution_error(mesh, solution, space)` that computes the norm of the error between a finite element solution and the exact solution to the Poisson problem on the domain $\\Omega$. The first input argument `mesh` contains the mesh of $\\Omega$, the second input argument `solution` contains the finite element solution, while the norm definition is derived from the third input argument `space` (if `space == 0`, the $L^2(\\Omega) = H^0(\\Omega)$ norm is used, while if `space == 1` the $H^1(\\Omega)$ norm is used).\n",
    "\n",
    "The function implments the following steps: (i) definition of the exact solution, (ii) computation of the difference between the finite element solution and the exact solution, (iii) representation of the square of norm of the error in `ufl`, (iv) evaluation of the square of norm of the error by assembling the `ufl` representation, and (v) application of a square root (do not forget this!) to get the error from its square."
   ]
  },
  {
   "cell_type": "markdown",
   "metadata": {},
   "source": [
    "We test the implementation on the solution we have obtained from the mesh with $n = 10$ and $\\mathbb{P}^1$ finite elements."
   ]
  },
  {
   "cell_type": "markdown",
   "metadata": {},
   "source": [
    "Here is the L2 error and H1 error"
   ]
  },
  {
   "cell_type": "code",
   "execution_count": 26,
   "metadata": {},
   "outputs": [],
   "source": [
    "true_sol = ufl.sin(2 * ufl.pi * x[0]) * ufl.cos(2 * ufl.pi * x[1])"
   ]
  },
  {
   "cell_type": "code",
   "execution_count": 27,
   "metadata": {},
   "outputs": [
    {
     "data": {
      "text/plain": [
       "np.float64(0.05229466258013521)"
      ]
     },
     "execution_count": 27,
     "metadata": {},
     "output_type": "execute_result"
    }
   ],
   "source": [
    "# L2\n",
    "pois_err(mesh_10, solution_10, 0, true_sol, x)"
   ]
  },
  {
   "cell_type": "code",
   "execution_count": 28,
   "metadata": {},
   "outputs": [
    {
     "data": {
      "text/plain": [
       "np.float64(1.3599069983672876)"
      ]
     },
     "execution_count": 28,
     "metadata": {},
     "output_type": "execute_result"
    }
   ],
   "source": [
    "# H1\n",
    "pois_err(mesh_10, solution_10, 1, true_sol, x)"
   ]
  },
  {
   "cell_type": "markdown",
   "metadata": {},
   "source": [
    "Point 1"
   ]
  },
  {
   "cell_type": "markdown",
   "metadata": {},
   "source": [
    "Let's test the convergence rate by increase the mesh diameter, data are the same as before"
   ]
  },
  {
   "cell_type": "code",
   "execution_count": 29,
   "metadata": {},
   "outputs": [],
   "source": [
    "n_iter = 6\n",
    "k_array = np.zeros(6)\n",
    "N_list = np.array([20,40,100,120,200,240])\n",
    "N_list_inv_plot = np.array([20**-1,40**-1,100**-1,120**-1,200**-1,240**-1]) # sorry, problem with verison of python. Use power -1 since working on P1\n",
    "\n",
    "for i, N_exp in enumerate(N_list):\n",
    "\n",
    "    mesh_it, bnd_it = unit_square_structured_mesh(N_exp)\n",
    "    x = ufl.SpatialCoordinate(mesh_it)\n",
    "    rhs_ufl =  8 * ufl.pi**2 * ufl.sin(2 * ufl.pi * x[0]) * ufl.cos(2 * ufl.pi * x[1])\n",
    "    func_bound = lambda x: np.sin(2 * np.pi * x[0])\n",
    "    true_sol = ufl.sin(2 * ufl.pi * x[0]) * ufl.cos(2 * ufl.pi * x[1])\n",
    "    __, _, uh_it = pois_solv(mesh_it, bnd_it, 1, rhs_ufl, func_bound, x)\n",
    "    k_array[i] = pois_err(mesh_it,uh_it, 1, true_sol, x) # here we go with H1"
   ]
  },
  {
   "cell_type": "code",
   "execution_count": 30,
   "metadata": {},
   "outputs": [
    {
     "data": {
      "image/png": "[encoded data removed]",
      "text/plain": [
       "<Figure size 640x480 with 1 Axes>"
      ]
     },
     "metadata": {},
     "output_type": "display_data"
    }
   ],
   "source": [
    "plt.loglog(N_list,k_array)\n",
    "plt.loglog(N_list,N_list_inv_plot)\n",
    "plt.show()"
   ]
  },
  {
   "cell_type": "markdown",
   "metadata": {},
   "source": [
    "The error line is parallel to ref. line meaning it is EOC 1, as expected by set up fixed."
   ]
  },
  {
   "cell_type": "markdown",
   "metadata": {},
   "source": [
    "# Working with subdomains\n",
    "\n",
    "\n",
    "We now solve the same problem but with the forcing function given by:\n",
    "\n",
    "$$\n",
    "f(\\mathbf{x}) = \\begin{cases}\n",
    "50, & \\mathbf{x} \\in [0.2, 0.8]^2,\\\\\n",
    "1, & \\text{otherwise},\n",
    "\\end{cases}\n",
    "$$\n",
    "\n",
    "\n",
    "We shall code this using by defining two subdomains:\n",
    "$$\\Omega_2 = [0.2, 0.8]^2 \\quad \\text{and} \\quad \\Omega_1 = \\Omega \\setminus \\Omega_0$$\n",
    "\n",
    " In order to do so, we need to ensure that the mesh is alligned with the subdomains. For instance, we can take $n=m=10$:"
   ]
  },
  {
   "cell_type": "code",
   "execution_count": 31,
   "metadata": {},
   "outputs": [
    {
     "data": {
      "text/plain": [
       "200"
      ]
     },
     "execution_count": 31,
     "metadata": {},
     "output_type": "execute_result"
    }
   ],
   "source": [
    "n = 10\n",
    "m = 10\n",
    "mesh = dolfinx.mesh.create_unit_square(mpi4py.MPI.COMM_WORLD, n, m)\n",
    "\n",
    "num_cells = mesh.topology.index_map(tdim).size_local\n",
    "num_cells"
   ]
  },
  {
   "cell_type": "code",
   "execution_count": 32,
   "metadata": {},
   "outputs": [
    {
     "data": {
      "application/vnd.jupyter.widget-view+json": {
       "model_id": "12a15219b22e4673b5f9a8b765eb2954",
       "version_major": 2,
       "version_minor": 0
      },
      "text/plain": [
       "Widget(value='<iframe src=\"http://localhost:35885/index.html?ui=P_0x759b05972280_5&reconnect=auto\" class=\"pyvi…"
      ]
     },
     "metadata": {},
     "output_type": "display_data"
    }
   ],
   "source": [
    "viskex.dolfinx.plot_mesh(mesh)"
   ]
  },
  {
   "cell_type": "code",
   "execution_count": 33,
   "metadata": {},
   "outputs": [
    {
     "data": {
      "text/plain": [
       "array([  0,   3,   4,   6,  12,  14,  23,  25,  37,  39,  54,  56,  74,\n",
       "        76,  97,  99, 123, 125, 152, 154, 183, 184, 186, 211, 213, 235,\n",
       "       237, 256, 258, 274, 276, 289, 291, 301, 303, 310, 312, 316, 318,\n",
       "       319], dtype=int32)"
      ]
     },
     "execution_count": 33,
     "metadata": {},
     "output_type": "execute_result"
    }
   ],
   "source": [
    "boundary_entities = dolfinx.mesh.locate_entities_boundary(\n",
    "    mesh, fdim, lambda x: np.full((x.shape[1], ), True))\n",
    "boundary_entities"
   ]
  },
  {
   "cell_type": "markdown",
   "metadata": {},
   "source": [
    "**New Task:** Define the two subdomains $\\Omega_1$ and $\\Omega_2$ in view of the implementation of the forcing function $f$.\n",
    "\n",
    "*   mark $\\Omega_1$ and $\\Omega_2$ with labels `1` and `2`\n",
    "*   use the `dolfinx.mesh` function `locate_entities` to determine whether a cell is in $\\Omega_2$. This function checks each of the three vertices of the triangular cell, and locates all cells in which the provided condition is satisfied on all three vertices."
   ]
  },
  {
   "cell_type": "code",
   "execution_count": 34,
   "metadata": {},
   "outputs": [
    {
     "data": {
      "text/plain": [
       "array([ 22,  27,  32,  33,  38,  39,  44,  45,  46,  51,  52,  53,  58,\n",
       "        59,  60,  61,  66,  67,  68,  69,  74,  75,  76,  77,  78,  83,\n",
       "        84,  85,  86,  87,  92,  93,  94,  95,  96,  97, 102, 103, 104,\n",
       "       105, 106, 107, 112, 113, 114, 115, 116, 121, 122, 123, 124, 125,\n",
       "       130, 131, 132, 133, 138, 139, 140, 141, 146, 147, 148, 153, 154,\n",
       "       155, 160, 161, 166, 167, 172, 177], dtype=int32)"
      ]
     },
     "execution_count": 34,
     "metadata": {},
     "output_type": "execute_result"
    }
   ],
   "source": [
    "inner_subdomain_entities = dolfinx.mesh.locate_entities(\n",
    "    mesh, mesh.topology.dim, lambda x: np.logical_and(\n",
    "        np.logical_and(x[0] >= 0.2, x[0] <= 0.8),\n",
    "        np.logical_and(x[1] >= 0.2, x[1] <= 0.8)))\n",
    "inner_subdomain_entities"
   ]
  },
  {
   "cell_type": "markdown",
   "metadata": {},
   "source": [
    "We label each cell in $\\Omega_2$ with the label `2` by using the `np.full` function which return a new array with shape of input filled with value."
   ]
  },
  {
   "cell_type": "code",
   "execution_count": 35,
   "metadata": {},
   "outputs": [
    {
     "data": {
      "text/plain": [
       "array([2, 2, 2, 2, 2, 2, 2, 2, 2, 2, 2, 2, 2, 2, 2, 2, 2, 2, 2, 2, 2, 2,\n",
       "       2, 2, 2, 2, 2, 2, 2, 2, 2, 2, 2, 2, 2, 2, 2, 2, 2, 2, 2, 2, 2, 2,\n",
       "       2, 2, 2, 2, 2, 2, 2, 2, 2, 2, 2, 2, 2, 2, 2, 2, 2, 2, 2, 2, 2, 2,\n",
       "       2, 2, 2, 2, 2, 2], dtype=int32)"
      ]
     },
     "execution_count": 35,
     "metadata": {},
     "output_type": "execute_result"
    }
   ],
   "source": [
    "inner_subdomains_labels = np.full(inner_subdomain_entities.shape, 2, dtype=np.intc)\n",
    "inner_subdomains_labels"
   ]
  },
  {
   "cell_type": "markdown",
   "metadata": {},
   "source": [
    "The remaining cells will belong to $\\Omega_1$. Recall that in num_cells we have stored the total number of cells\n"
   ]
  },
  {
   "cell_type": "code",
   "execution_count": 36,
   "metadata": {},
   "outputs": [
    {
     "data": {
      "text/plain": [
       "array([  0,   1,   2,   3,   4,   5,   6,   7,   8,   9,  10,  11,  12,\n",
       "        13,  14,  15,  16,  17,  18,  19,  20,  21,  23,  24,  25,  26,\n",
       "        28,  29,  30,  31,  34,  35,  36,  37,  40,  41,  42,  43,  47,\n",
       "        48,  49,  50,  54,  55,  56,  57,  62,  63,  64,  65,  70,  71,\n",
       "        72,  73,  79,  80,  81,  82,  88,  89,  90,  91,  98,  99, 100,\n",
       "       101, 108, 109, 110, 111, 117, 118, 119, 120, 126, 127, 128, 129,\n",
       "       134, 135, 136, 137, 142, 143, 144, 145, 149, 150, 151, 152, 156,\n",
       "       157, 158, 159, 162, 163, 164, 165, 168, 169, 170, 171, 173, 174,\n",
       "       175, 176, 178, 179, 180, 181, 182, 183, 184, 185, 186, 187, 188,\n",
       "       189, 190, 191, 192, 193, 194, 195, 196, 197, 198, 199])"
      ]
     },
     "execution_count": 36,
     "metadata": {},
     "output_type": "execute_result"
    }
   ],
   "source": [
    "outer_subdomain_entities = np.setdiff1d(np.arange(num_cells), inner_subdomain_entities)\n",
    "outer_subdomain_entities"
   ]
  },
  {
   "cell_type": "code",
   "execution_count": 37,
   "metadata": {},
   "outputs": [
    {
     "data": {
      "text/plain": [
       "array([1, 1, 1, 1, 1, 1, 1, 1, 1, 1, 1, 1, 1, 1, 1, 1, 1, 1, 1, 1, 1, 1,\n",
       "       1, 1, 1, 1, 1, 1, 1, 1, 1, 1, 1, 1, 1, 1, 1, 1, 1, 1, 1, 1, 1, 1,\n",
       "       1, 1, 1, 1, 1, 1, 1, 1, 1, 1, 1, 1, 1, 1, 1, 1, 1, 1, 1, 1, 1, 1,\n",
       "       1, 1, 1, 1, 1, 1, 1, 1, 1, 1, 1, 1, 1, 1, 1, 1, 1, 1, 1, 1, 1, 1,\n",
       "       1, 1, 1, 1, 1, 1, 1, 1, 1, 1, 1, 1, 1, 1, 1, 1, 1, 1, 1, 1, 1, 1,\n",
       "       1, 1, 1, 1, 1, 1, 1, 1, 1, 1, 1, 1, 1, 1, 1, 1, 1, 1], dtype=int32)"
      ]
     },
     "execution_count": 37,
     "metadata": {},
     "output_type": "execute_result"
    }
   ],
   "source": [
    "outer_subdomains_labels = np.full(outer_subdomain_entities.shape, 1, dtype=np.intc)\n",
    "outer_subdomains_labels"
   ]
  },
  {
   "cell_type": "markdown",
   "metadata": {},
   "source": [
    "We then store both subdomains in a `dolfinx.mesh` `MeshTags` object."
   ]
  },
  {
   "cell_type": "code",
   "execution_count": 38,
   "metadata": {},
   "outputs": [
    {
     "data": {
      "text/plain": [
       "<dolfinx.mesh.MeshTags at 0x759b04e622b0>"
      ]
     },
     "execution_count": 38,
     "metadata": {},
     "output_type": "execute_result"
    }
   ],
   "source": [
    "subdomains_entities_unsorted = np.hstack((outer_subdomain_entities, inner_subdomain_entities)).astype(np.int32)\n",
    "subdomains_values_unsorted = np.hstack((outer_subdomains_labels, inner_subdomains_labels)).astype(np.int32)\n",
    "subdomains_entities_argsort = np.argsort(subdomains_entities_unsorted)\n",
    "subdomains_entities_sorted = subdomains_entities_unsorted[subdomains_entities_argsort]\n",
    "subdomains_values_sorted = subdomains_values_unsorted[subdomains_entities_argsort]\n",
    "subdomains = dolfinx.mesh.meshtags(\n",
    "    mesh, mesh.topology.dim, subdomains_entities_sorted, subdomains_values_sorted)\n",
    "subdomains"
   ]
  },
  {
   "cell_type": "markdown",
   "metadata": {},
   "source": [
    "We finally plot with `pyvista` the subdomains to verify the correct assignment of the label."
   ]
  },
  {
   "cell_type": "code",
   "execution_count": 39,
   "metadata": {},
   "outputs": [
    {
     "data": {
      "application/vnd.jupyter.widget-view+json": {
       "model_id": "eabf181fee934486abc98f97de4cb264",
       "version_major": 2,
       "version_minor": 0
      },
      "text/plain": [
       "Widget(value='<iframe src=\"http://localhost:35885/index.html?ui=P_0x759b04e62850_6&reconnect=auto\" class=\"pyvi…"
      ]
     },
     "metadata": {},
     "output_type": "display_data"
    }
   ],
   "source": [
    "viskex.dolfinx.plot_mesh_tags(mesh, subdomains, \"subdomains\")"
   ]
  },
  {
   "cell_type": "markdown",
   "metadata": {},
   "source": [
    "Defining the FEM space is as before:"
   ]
  },
  {
   "cell_type": "code",
   "execution_count": 40,
   "metadata": {},
   "outputs": [
    {
     "data": {
      "text/plain": [
       "121"
      ]
     },
     "execution_count": 40,
     "metadata": {},
     "output_type": "execute_result"
    }
   ],
   "source": [
    "Vh = dolfinx.fem.functionspace(mesh, (\"Lagrange\", 1))\n",
    "\n",
    "Vh_dim = Vh.dofmap.index_map.size_local\n",
    "Vh_dim"
   ]
  },
  {
   "cell_type": "code",
   "execution_count": 41,
   "metadata": {},
   "outputs": [],
   "source": [
    "uh = ufl.TrialFunction(Vh)\n",
    "vh = ufl.TestFunction(Vh)"
   ]
  },
  {
   "cell_type": "markdown",
   "metadata": {},
   "source": [
    "In order to write this problem in `ufl`, we need to inform the integral measure `dx` of the subdomain labels, using `ufl.Measure` and providing as data the `subdomains` object that we have created."
   ]
  },
  {
   "cell_type": "code",
   "execution_count": 42,
   "metadata": {},
   "outputs": [],
   "source": [
    "dx = ufl.Measure(\"dx\")(subdomain_data=subdomains)"
   ]
  },
  {
   "cell_type": "markdown",
   "metadata": {},
   "source": [
    "The bilinear form is straighforward:"
   ]
  },
  {
   "cell_type": "code",
   "execution_count": 43,
   "metadata": {},
   "outputs": [],
   "source": [
    "inner = ufl.inner\n",
    "grad = ufl.grad\n",
    "A = inner(grad(uh), grad(vh)) * dx"
   ]
  },
  {
   "cell_type": "markdown",
   "metadata": {},
   "source": [
    "We further define the linear functional\n",
    " $$ F(v) = \\int_\\Omega f \\ v \\ \\mathrm{d}\\mathbf{x} = \\int_{\\Omega_1} v \\ \\mathrm{d}\\mathbf{x} + \\int_{\\Omega_2} 50 \\ v \\ \\mathrm{d}\\mathbf{x}.$$\n",
    " In order to implement this in `ufl`, we use `dx(1)` to define integration over $\\Omega_1$, and similarly `dx(2)` to define integration over $\\Omega_2$."
   ]
  },
  {
   "cell_type": "code",
   "execution_count": 44,
   "metadata": {},
   "outputs": [],
   "source": [
    "F = vh * dx(1) + 50 * vh * dx(0) # f = 1 on omega 1 and 50 on omega 2"
   ]
  },
  {
   "cell_type": "code",
   "execution_count": 45,
   "metadata": {},
   "outputs": [],
   "source": [
    "gh = dolfinx.fem.Function(Vh)\n",
    "gh.interpolate(lambda x: np.sin(3 * np.pi * x[0] + 1) * np.sin(3 * np.pi * x[1] + 1))\n",
    "\n",
    "boundary_dofs = dolfinx.fem.locate_dofs_topological(Vh, fdim, boundary_entities)\n",
    "bc = dolfinx.fem.dirichletbc(gh, boundary_dofs)\n",
    "\n",
    "solution = dolfinx.fem.Function(Vh)\n",
    "\n",
    "problem = dolfinx.fem.petsc.LinearProblem(\n",
    "    A, F, bcs=[bc], u=solution,\n",
    "    petsc_options={\"ksp_type\": \"preonly\", \"pc_type\": \"lu\", \"pc_factor_mat_solver_type\": \"mumps\"})\n",
    "_ = problem.solve()"
   ]
  },
  {
   "cell_type": "code",
   "execution_count": 46,
   "metadata": {},
   "outputs": [],
   "source": [
    "u_topology, u_cell_types, u_geometry = plot.vtk_mesh(Vh)"
   ]
  },
  {
   "cell_type": "code",
   "execution_count": 47,
   "metadata": {},
   "outputs": [],
   "source": [
    "grid = pyvista.UnstructuredGrid(topology, cell_types, geometry)"
   ]
  },
  {
   "cell_type": "code",
   "execution_count": 48,
   "metadata": {},
   "outputs": [
    {
     "data": {
      "application/vnd.jupyter.widget-view+json": {
       "model_id": "f665f10fea874104a4ee6fc1b2323a50",
       "version_major": 2,
       "version_minor": 0
      },
      "text/plain": [
       "Widget(value='<iframe src=\"http://localhost:35885/index.html?ui=P_0x759b0635b640_7&reconnect=auto\" class=\"pyvi…"
      ]
     },
     "metadata": {},
     "output_type": "display_data"
    }
   ],
   "source": [
    "# Due to new version of dolfinx I needed to change the way to plot the solution\n",
    "\n",
    "\n",
    "u_grid = pyvista.UnstructuredGrid(u_topology, u_cell_types, u_geometry)\n",
    "u_grid.point_data[\"u\"] = solution.x.array.real\n",
    "u_grid.set_active_scalars(\"u\")\n",
    "u_plotter = pyvista.Plotter()\n",
    "u_plotter.add_mesh(u_grid, show_edges=True)\n",
    "u_plotter.view_xy()\n",
    "u_plotter.show()"
   ]
  },
  {
   "cell_type": "markdown",
   "metadata": {},
   "source": [
    "Point 2"
   ]
  },
  {
   "cell_type": "markdown",
   "metadata": {},
   "source": [
    "Use the subdomain idea to solve the problem: find $u: \\Omega = (0, 1)^2 \\to \\mathbb{R}$ such that\n",
    "\n",
    "$$\n",
    "\\begin{cases}\n",
    "- \\nabla (\\kappa \\nabla u) = f, & \\text{in } \\Omega,\\\\\n",
    "u = g, & \\text{on } \\partial\\Omega.\n",
    "\\end{cases}\n",
    "$$\n",
    "with $f$  and $g$ as before and\n",
    "$$\n",
    "\\kappa(\\mathbf{x}) = \\begin{cases}\n",
    "1, & \\mathbf{x} \\in [0.2, 0.8]^2,\\\\\n",
    "0.1, & \\text{otherwise},\n",
    "\\end{cases}\n",
    "$$"
   ]
  },
  {
   "cell_type": "markdown",
   "metadata": {},
   "source": [
    "The two subdomains are the same as before, so no need to re-write the code. Also F could be coded in the same way as before, however, the problem is bilinear operator, since now there is a function inside to be evaluated correctly. Indeed expand how the bilinear operator is written and it is clear that is the sum of $-k \\bigtriangleup u$ and $\\nabla k \\nabla u$. Now, k is a horizontal line step function, meaning that inside each of teh subdomains the first derivative is 0. This means that $\\nabla k = 0$, so the expansion of the bilinear form becomes $-k \\bigtriangleup u +\\nabla k 0 = -k \\bigtriangleup u $ ."
   ]
  },
  {
   "cell_type": "markdown",
   "metadata": {},
   "source": [
    "Define the code for bilinear operator and linear operator:"
   ]
  },
  {
   "cell_type": "code",
   "execution_count": 49,
   "metadata": {},
   "outputs": [],
   "source": [
    "inner = ufl.inner\n",
    "grad = ufl.grad\n",
    "A = inner(grad(uh), grad(vh)) * dx(2) + 0.1 * inner(grad(uh), grad(vh)) * dx(1) # since k=1 in omega 1 and 1/10 in omega 2\n",
    "\n",
    "F = vh * dx(1) + 50 * vh * dx(2) # as before, since f=1 in omega 1 and f=50 in omega 2"
   ]
  },
  {
   "cell_type": "code",
   "execution_count": 50,
   "metadata": {},
   "outputs": [],
   "source": [
    "gh = dolfinx.fem.Function(Vh)\n",
    "gh.interpolate(lambda x: np.sin(3 * np.pi * x[0] + 1) * np.sin(3 * np.pi * x[1] + 1))\n",
    "\n",
    "boundary_dofs = dolfinx.fem.locate_dofs_topological(Vh, fdim, boundary_entities)\n",
    "bc = dolfinx.fem.dirichletbc(gh, boundary_dofs)\n",
    "\n",
    "solution = dolfinx.fem.Function(Vh)\n",
    "\n",
    "problem = dolfinx.fem.petsc.LinearProblem(\n",
    "    A, F, bcs=[bc], u=solution,\n",
    "    petsc_options={\"ksp_type\": \"preonly\", \"pc_type\": \"lu\", \"pc_factor_mat_solver_type\": \"mumps\"})\n",
    "_ = problem.solve()"
   ]
  },
  {
   "cell_type": "code",
   "execution_count": 51,
   "metadata": {},
   "outputs": [
    {
     "data": {
      "application/vnd.jupyter.widget-view+json": {
       "model_id": "46655df8e50941eaa0d48c52eed1b6fa",
       "version_major": 2,
       "version_minor": 0
      },
      "text/plain": [
       "Widget(value='<iframe src=\"http://localhost:35885/index.html?ui=P_0x759b04f27850_8&reconnect=auto\" class=\"pyvi…"
      ]
     },
     "metadata": {},
     "output_type": "display_data"
    }
   ],
   "source": [
    "u_topology, u_cell_types, u_geometry = plot.vtk_mesh(Vh)\n",
    "grid = pyvista.UnstructuredGrid(topology, cell_types, geometry)\n",
    "\n",
    "# Due to new version of dolfinx I needed to change the way to plot the solution\n",
    "\n",
    "\n",
    "u_grid = pyvista.UnstructuredGrid(u_topology, u_cell_types, u_geometry)\n",
    "u_grid.point_data[\"u\"] = solution.x.array.real\n",
    "u_grid.set_active_scalars(\"u\")\n",
    "u_plotter = pyvista.Plotter()\n",
    "u_plotter.add_mesh(u_grid, show_edges=True)\n",
    "u_plotter.view_xy()\n",
    "u_plotter.show()"
   ]
  },
  {
   "cell_type": "markdown",
   "metadata": {},
   "source": [
    "Point 3"
   ]
  },
  {
   "cell_type": "markdown",
   "metadata": {},
   "source": [
    "Use the subdomain idea to define different boundary conditions. For instance, solve with:\n",
    "$$\n",
    "-\\bigtriangleup u = f \\\\\n",
    "u = g \\quad\\text{if } \\quad x=0 \\quad \\text{or}\\quad  x=1,\n",
    "$$\n",
    "$$\n",
    "f(\\mathbf{x}) = \\begin{cases}\n",
    "50, & \\mathbf{x} \\in [0.2, 0.8]^2,\\\\\n",
    "1, & \\text{otherwise},\n",
    "\\end{cases}\n",
    "$$\n",
    "\n",
    "and\n",
    "$$\n",
    "-\\frac{\\partial u}{\\partial {\\mathbf n}} = h \\quad \\text{otherwise}.\n",
    "$$\n",
    "with\n",
    "$$\n",
    "h(x,y)=\n",
    "\\left\\{\n",
    "\\begin{array}{ll}\n",
    "0 & \\text{if } y=0\\\\\n",
    "-4 & \\text{if } y=1.\n",
    "\\end{array}\n",
    "\\right.\n",
    "$$\n"
   ]
  },
  {
   "cell_type": "markdown",
   "metadata": {},
   "source": [
    "The basic mesh will be the same used before, so no need to rewrite the code."
   ]
  },
  {
   "cell_type": "markdown",
   "metadata": {},
   "source": [
    "For the boundary condition there is a mix of Dirichlet and Neumann conditions, so it is defined as mixed problem. Again Poisson problem."
   ]
  },
  {
   "cell_type": "markdown",
   "metadata": {},
   "source": [
    "The main reference used to solve this problem is: https://jsdokken.com/dolfinx-tutorial/chapter3/neumann_dirichlet_code.html\n",
    "\n",
    "The first step is re-write the problem, as usual, in weak form: by testing v and integration by part\n",
    "\n",
    "$$\n",
    "-\\int_{\\Omega} \\bigtriangleup u dx = \\int_{\\Omega} \\nabla u \\nabla v dx - \\int_{\\partial \\Omega} \\frac{\\partial u}{\\partial n} v dx = \\int_{\\Omega} \\nabla u \\nabla v dx - 0 - \\int_{\\partial \\Omega_{N}} \\frac{\\partial u}{\\partial n} v dx = \\int_{\\Omega} \\nabla u \\nabla v dx  - \\int_{\\partial \\Omega_{N}} -h v dx = \\int_{\\Omega} \\nabla u \\nabla v dx  + \\int_{\\partial \\Omega_{N}} h v dx\n",
    "$$\n",
    "\n",
    "since on Dirichlet subdomain it is fixed a V space where v = 0."
   ]
  },
  {
   "cell_type": "markdown",
   "metadata": {},
   "source": [
    "Re-write the problem in weak form:\n",
    "\n",
    "$$\n",
    "A(u, v) = F(v) \n",
    "$$\n",
    "which form is:\n",
    "$$\n",
    "A(u, v) = \\int_{\\Omega} \\nabla u \\nabla v dx  + \\int_{\\partial \\Omega_{N}} h v dx \\\\\n",
    "\n",
    "F(v) = \\int_{\\Omega} f v dx\n",
    "$$\n",
    "\n",
    "but for simplicity, let's work with usual bilinera operator defined by inner product of gradients:\n",
    "$$\n",
    "A(u, v) = \\int_{\\Omega} \\nabla u \\nabla v dx   \\\\\n",
    "\n",
    "F(v) = \\int_{\\Omega} f v dx - \\int_{\\partial \\Omega_{N}} h v dx\n",
    "$$"
   ]
  },
  {
   "cell_type": "markdown",
   "metadata": {},
   "source": [
    "Vh, uh and vh are the same as before, so no need to re write them. The second step as usual is to define the code for split the domain $\\Omega$ in the subdoamins: here, for simplicity in coding, it is possible to split the domain in:\n",
    "\n",
    "* Dirichelt lower bound $x = 0$\n",
    "* Dirichlet upper bound $x = 1$\n",
    "* Neumann lower bound $y = 0$\n",
    "* Neumann upper bound $y = 1$\n",
    "* Squared inner domain based of f\n",
    "* Squared outer domain based of f\n"
   ]
  },
  {
   "cell_type": "code",
   "execution_count": 52,
   "metadata": {},
   "outputs": [
    {
     "data": {
      "text/plain": [
       "200"
      ]
     },
     "execution_count": 52,
     "metadata": {},
     "output_type": "execute_result"
    }
   ],
   "source": [
    "n = 10\n",
    "m = 10\n",
    "mesh = dolfinx.mesh.create_unit_square(mpi4py.MPI.COMM_WORLD, n, m)\n",
    "\n",
    "num_cells = mesh.topology.index_map(tdim).size_local\n",
    "num_cells"
   ]
  },
  {
   "cell_type": "code",
   "execution_count": 53,
   "metadata": {},
   "outputs": [],
   "source": [
    "# Now use same approach for outer and ineer subdomains fo F used before, so use locate_entities\n",
    "bnd_ent_lower_Neum = dolfinx.mesh.locate_entities(\n",
    "    mesh, fdim+1, lambda x: np.isclose(x[1], 0, atol=0.1)) #meaning y = 0\n",
    "\n",
    "bnd_ent_upper_Neum = dolfinx.mesh.locate_entities(\n",
    "    mesh, fdim+1, lambda x: np.isclose(x[1], 1, atol=0.1)) #meaning y = 1\n",
    "\n",
    "# here, on code implementation I needed to set different tollerance because otherwise it was not able to select the Neumann boundaries."
   ]
  },
  {
   "cell_type": "code",
   "execution_count": 54,
   "metadata": {},
   "outputs": [],
   "source": [
    "# same function as before\n",
    "inn_ent_f = dolfinx.mesh.locate_entities(\n",
    "    mesh, mesh.topology.dim, lambda x: np.logical_and(\n",
    "        np.logical_and(x[0] >= 0.2, x[0] <= 0.8),\n",
    "        np.logical_and(x[1] >= 0.2, x[1] <= 0.8)))"
   ]
  },
  {
   "cell_type": "markdown",
   "metadata": {},
   "source": [
    "Now it is important to actual create the outer domain, using the same approach used before, but the only difference relies on the set unions by Dirichlet and Neumann."
   ]
  },
  {
   "cell_type": "code",
   "execution_count": 55,
   "metadata": {},
   "outputs": [],
   "source": [
    "outer_step1 = np.setdiff1d(np.arange(num_cells), inn_ent_f) #usual as before\n",
    "outer_step2 = np.setdiff1d(outer_step1, bnd_ent_lower_Neum) #remove lower bound of Neumann\n",
    "outer_step3 = np.setdiff1d(outer_step2, bnd_ent_upper_Neum) #remove upper bound of Neumann"
   ]
  },
  {
   "cell_type": "markdown",
   "metadata": {},
   "source": [
    "Now, as usual, label the division created"
   ]
  },
  {
   "cell_type": "code",
   "execution_count": 56,
   "metadata": {},
   "outputs": [],
   "source": [
    "inner_label = np.full(inn_ent_f.shape, 1)\n",
    "neum_lower_label = np.full(bnd_ent_lower_Neum.shape, 2)\n",
    "neum_upper_label = np.full(bnd_ent_upper_Neum.shape, 3)\n",
    "outer_label = np.full(outer_step3.shape, 4)"
   ]
  },
  {
   "cell_type": "code",
   "execution_count": 57,
   "metadata": {},
   "outputs": [],
   "source": [
    "sub_ent_unsorted = np.hstack((inn_ent_f, bnd_ent_lower_Neum, bnd_ent_upper_Neum, outer_step3)).astype(np.int32)\n",
    "sub_label_unsorted  = np.hstack((inner_label, neum_lower_label, neum_upper_label, outer_label)).astype(np.int32)\n",
    "sub_ent_sorted = sub_ent_unsorted[np.argsort(sub_ent_unsorted)]\n",
    "sub_label_sorted = sub_label_unsorted[np.argsort(sub_ent_unsorted)]\n",
    "subdomains = dolfinx.mesh.meshtags(\n",
    "    mesh, mesh.topology.dim, sub_ent_sorted, sub_label_sorted)"
   ]
  },
  {
   "cell_type": "code",
   "execution_count": 58,
   "metadata": {},
   "outputs": [
    {
     "data": {
      "application/vnd.jupyter.widget-view+json": {
       "model_id": "78215c709f744c38aec430c3d32159b4",
       "version_major": 2,
       "version_minor": 0
      },
      "text/plain": [
       "Widget(value='<iframe src=\"http://localhost:35885/index.html?ui=P_0x759b04f0edc0_9&reconnect=auto\" class=\"pyvi…"
      ]
     },
     "metadata": {},
     "output_type": "display_data"
    }
   ],
   "source": [
    "viskex.dolfinx.plot_mesh_tags(mesh, subdomains, \"subdomains\")"
   ]
  },
  {
   "cell_type": "markdown",
   "metadata": {},
   "source": [
    "Here, there is the blue inner boundary, derived by F. Also, the red is outer boundary obtained by F. The two line of traingles on top (yellow) and on bottom (cyan) represent the Neumann one."
   ]
  },
  {
   "cell_type": "markdown",
   "metadata": {},
   "source": [
    "Now, that the domain is defined, as usual define the space and test function"
   ]
  },
  {
   "cell_type": "code",
   "execution_count": 59,
   "metadata": {},
   "outputs": [],
   "source": [
    "Vh = dolfinx.fem.functionspace(mesh, (\"Lagrange\", 1))\n",
    "\n",
    "Vh_dim = Vh.dofmap.index_map.size_local\n",
    "uh = ufl.TrialFunction(Vh)\n",
    "vh = ufl.TestFunction(Vh)"
   ]
  },
  {
   "cell_type": "markdown",
   "metadata": {},
   "source": [
    "As before, define the dx on the appropriate measure in domain"
   ]
  },
  {
   "cell_type": "code",
   "execution_count": 60,
   "metadata": {},
   "outputs": [],
   "source": [
    "dx = ufl.Measure(\"dx\")(subdomain_data=subdomains)"
   ]
  },
  {
   "cell_type": "markdown",
   "metadata": {},
   "source": [
    "Bilinear operator and linear one"
   ]
  },
  {
   "cell_type": "code",
   "execution_count": 61,
   "metadata": {},
   "outputs": [],
   "source": [
    "inner = ufl.inner\n",
    "grad = ufl.grad\n",
    "# here define the same inner product on all the 4 subdomains\n",
    "A = inner(grad(uh), grad(vh)) * dx(1) + inner(grad(uh), grad(vh)) * dx(2) + inner(grad(uh), grad(vh)) * dx(3) + inner(grad(uh), grad(vh)) * dx(4)\n",
    "# now on F, the topic is to get what happens on each subdomains since we put there also the neumann part\n",
    "F = vh * dx(4) + 50 * vh * dx(1) + vh * dx(3) + 4* vh * dx(3) + vh * dx(2) # as before, since f=1 in omega 1 (outer/red)and f=50 in omega 2 (inner/blue), h = -4 when in upper Neumann (yellow) and h = 0 when in lower Neumann (cyan)"
   ]
  },
  {
   "cell_type": "code",
   "execution_count": 62,
   "metadata": {},
   "outputs": [],
   "source": [
    "gh = dolfinx.fem.Function(Vh)\n",
    "gh.interpolate(lambda x: np.sin(3 * np.pi * x[0] + 1) * np.sin(3 * np.pi * x[1] + 1)) # as before, data as before\n",
    "\n",
    "# Dirichlet conditions\n",
    "boundary_dirichlet = dolfinx.mesh.locate_entities_boundary(\n",
    "    mesh, fdim, lambda x: np.logical_or(np.isclose(x[0], 0), np.isclose(x[0], 1)))\n",
    "\n",
    "boundary_dofs = dolfinx.fem.locate_dofs_topological(Vh, fdim, boundary_dirichlet)\n",
    "bc = dolfinx.fem.dirichletbc(gh, boundary_dofs)\n",
    "\n",
    "solution = dolfinx.fem.Function(Vh)\n",
    "\n",
    "problem = dolfinx.fem.petsc.LinearProblem(\n",
    "    A, F, bcs=[bc], u=solution,\n",
    "    petsc_options={\"ksp_type\": \"preonly\", \"pc_type\": \"lu\", \"pc_factor_mat_solver_type\": \"mumps\"})\n",
    "_ = problem.solve()"
   ]
  },
  {
   "cell_type": "code",
   "execution_count": null,
   "metadata": {},
   "outputs": [
    {
     "data": {
      "application/vnd.jupyter.widget-view+json": {
       "model_id": "522a1a6a395e4915976d9dfc7aa3d141",
       "version_major": 2,
       "version_minor": 0
      },
      "text/plain": [
       "Widget(value='<iframe src=\"http://localhost:35885/index.html?ui=P_0x759b04f0e9a0_10&reconnect=auto\" class=\"pyv…"
      ]
     },
     "metadata": {},
     "output_type": "display_data"
    }
   ],
   "source": [
    "u_topology, u_cell_types, u_geometry = plot.vtk_mesh(Vh)\n",
    "grid = pyvista.UnstructuredGrid(topology, cell_types, geometry) #used same as before, indeed not changed\n",
    "\n",
    "# Due to new version of dolfinx I needed to change the way to plot the solution\n",
    "\n",
    "\n",
    "u_grid = pyvista.UnstructuredGrid(u_topology, u_cell_types, u_geometry)\n",
    "u_grid.point_data[\"u\"] = solution.x.array.real\n",
    "u_grid.set_active_scalars(\"u\")\n",
    "u_plotter = pyvista.Plotter()\n",
    "u_plotter.add_mesh(u_grid, show_edges=True)\n",
    "u_plotter.view_xy()\n",
    "u_plotter.show()"
   ]
  },
  {
   "cell_type": "markdown",
   "metadata": {},
   "source": [
    "The results is enough clear, with boundaris on left and right side and the core in the middle and a litte lower intensity in top center and bottom center. On left and right side the lower values of the solution."
   ]
  }
 ],
 "metadata": {
  "kernelspec": {
   "display_name": "myenv",
   "language": "python",
   "name": "python3"
  },
  "language_info": {
   "codemirror_mode": {
    "name": "ipython",
    "version": 3
   },
   "file_extension": ".py",
   "mimetype": "text/x-python",
   "name": "python",
   "nbconvert_exporter": "python",
   "pygments_lexer": "ipython3",
   "version": "3.9.18"
  }
 },
 "nbformat": 4,
 "nbformat_minor": 2
}
